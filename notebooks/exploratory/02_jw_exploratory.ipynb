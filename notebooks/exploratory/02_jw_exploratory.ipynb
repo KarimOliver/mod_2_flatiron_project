{
 "cells": [
  {
   "cell_type": "code",
   "execution_count": 1,
   "metadata": {},
   "outputs": [],
   "source": [
    "import pandas as pd\n",
    "import numpy as np\n",
    "import sqlite3\n",
    "from sqlalchemy import create_engine\n",
    "import seaborn as sns\n",
    "import matplotlib.pyplot as plt\n",
    "%matplotlib inline"
   ]
  },
  {
   "cell_type": "code",
   "execution_count": 2,
   "metadata": {},
   "outputs": [],
   "source": [
    "%load_ext autoreload\n",
    "%autoreload 2\n",
    "import os\n",
    "import sys\n",
    "module_path = os.path.abspath(os.path.join(os.pardir, os.pardir))\n",
    "if module_path not in sys.path:\n",
    "    sys.path.append(module_path)"
   ]
  },
  {
   "cell_type": "code",
   "execution_count": 3,
   "metadata": {},
   "outputs": [],
   "source": [
    "import src.mc_functions as mc"
   ]
  },
  {
   "cell_type": "code",
   "execution_count": 5,
   "metadata": {},
   "outputs": [],
   "source": [
    "df = mc.create_dataframe()"
   ]
  },
  {
   "cell_type": "code",
   "execution_count": 9,
   "metadata": {},
   "outputs": [],
   "source": [
    "df['on_water'] = [1 if x > 0 else 0 for x in df['TidelandShoreland']]"
   ]
  },
  {
   "cell_type": "code",
   "execution_count": 20,
   "metadata": {},
   "outputs": [],
   "source": [
    "df['duplex'] = [1 if x == 3 else 0 for x in df['PresentUse']]"
   ]
  },
  {
   "cell_type": "markdown",
   "metadata": {},
   "source": [
    "### Creating a correlation matrix"
   ]
  },
  {
   "cell_type": "code",
   "execution_count": 61,
   "metadata": {},
   "outputs": [
    {
     "data": {
      "text/plain": [
       "(43867, 17)"
      ]
     },
     "execution_count": 61,
     "metadata": {},
     "output_type": "execute_result"
    }
   ],
   "source": [
    "df.shape"
   ]
  },
  {
   "cell_type": "markdown",
   "metadata": {},
   "source": [
    "### Dropping rows with zeros in the 'SalePrice' column"
   ]
  },
  {
   "cell_type": "code",
   "execution_count": null,
   "metadata": {},
   "outputs": [],
   "source": [
    "df = "
   ]
  },
  {
   "cell_type": "code",
   "execution_count": 11,
   "metadata": {},
   "outputs": [
    {
     "data": {
      "text/html": [
       "<div>\n",
       "<style scoped>\n",
       "    .dataframe tbody tr th:only-of-type {\n",
       "        vertical-align: middle;\n",
       "    }\n",
       "\n",
       "    .dataframe tbody tr th {\n",
       "        vertical-align: top;\n",
       "    }\n",
       "\n",
       "    .dataframe thead th {\n",
       "        text-align: right;\n",
       "    }\n",
       "</style>\n",
       "<table border=\"1\" class=\"dataframe\">\n",
       "  <thead>\n",
       "    <tr style=\"text-align: right;\">\n",
       "      <th></th>\n",
       "      <th>SalePrice</th>\n",
       "      <th>SqFt1stFloor</th>\n",
       "      <th>SqFt2ndFloor</th>\n",
       "      <th>SqFtTotLiving</th>\n",
       "      <th>SqFtOpenPorch</th>\n",
       "      <th>SqFtEnclosedPorch</th>\n",
       "      <th>TrafficNoise</th>\n",
       "      <th>AirportNoise</th>\n",
       "      <th>PowerLines</th>\n",
       "      <th>OtherNuisances</th>\n",
       "      <th>TidelandShoreland</th>\n",
       "      <th>PresentUse</th>\n",
       "      <th>has_porch</th>\n",
       "      <th>on_water</th>\n",
       "    </tr>\n",
       "  </thead>\n",
       "  <tbody>\n",
       "    <tr>\n",
       "      <td>SalePrice</td>\n",
       "      <td>1.000000</td>\n",
       "      <td>0.118724</td>\n",
       "      <td>0.157990</td>\n",
       "      <td>0.195816</td>\n",
       "      <td>0.107674</td>\n",
       "      <td>0.015146</td>\n",
       "      <td>-0.019141</td>\n",
       "      <td>NaN</td>\n",
       "      <td>-0.007842</td>\n",
       "      <td>-0.008572</td>\n",
       "      <td>0.085883</td>\n",
       "      <td>0.032020</td>\n",
       "      <td>0.080662</td>\n",
       "      <td>0.086136</td>\n",
       "    </tr>\n",
       "    <tr>\n",
       "      <td>SqFt1stFloor</td>\n",
       "      <td>0.118724</td>\n",
       "      <td>1.000000</td>\n",
       "      <td>0.165876</td>\n",
       "      <td>0.691599</td>\n",
       "      <td>0.315807</td>\n",
       "      <td>0.015350</td>\n",
       "      <td>-0.068134</td>\n",
       "      <td>NaN</td>\n",
       "      <td>0.023410</td>\n",
       "      <td>-0.071787</td>\n",
       "      <td>0.090686</td>\n",
       "      <td>-0.118489</td>\n",
       "      <td>0.163891</td>\n",
       "      <td>0.089556</td>\n",
       "    </tr>\n",
       "    <tr>\n",
       "      <td>SqFt2ndFloor</td>\n",
       "      <td>0.157990</td>\n",
       "      <td>0.165876</td>\n",
       "      <td>1.000000</td>\n",
       "      <td>0.655549</td>\n",
       "      <td>0.344108</td>\n",
       "      <td>-0.032103</td>\n",
       "      <td>-0.092635</td>\n",
       "      <td>NaN</td>\n",
       "      <td>0.014228</td>\n",
       "      <td>-0.041647</td>\n",
       "      <td>0.025951</td>\n",
       "      <td>0.109825</td>\n",
       "      <td>0.362511</td>\n",
       "      <td>0.026436</td>\n",
       "    </tr>\n",
       "    <tr>\n",
       "      <td>SqFtTotLiving</td>\n",
       "      <td>0.195816</td>\n",
       "      <td>0.691599</td>\n",
       "      <td>0.655549</td>\n",
       "      <td>1.000000</td>\n",
       "      <td>0.416241</td>\n",
       "      <td>-0.002453</td>\n",
       "      <td>-0.077343</td>\n",
       "      <td>NaN</td>\n",
       "      <td>0.018413</td>\n",
       "      <td>-0.059115</td>\n",
       "      <td>0.114222</td>\n",
       "      <td>-0.005238</td>\n",
       "      <td>0.304576</td>\n",
       "      <td>0.114150</td>\n",
       "    </tr>\n",
       "    <tr>\n",
       "      <td>SqFtOpenPorch</td>\n",
       "      <td>0.107674</td>\n",
       "      <td>0.315807</td>\n",
       "      <td>0.344108</td>\n",
       "      <td>0.416241</td>\n",
       "      <td>1.000000</td>\n",
       "      <td>-0.007702</td>\n",
       "      <td>-0.034162</td>\n",
       "      <td>NaN</td>\n",
       "      <td>0.017681</td>\n",
       "      <td>-0.020643</td>\n",
       "      <td>0.065253</td>\n",
       "      <td>0.022659</td>\n",
       "      <td>0.499036</td>\n",
       "      <td>0.065928</td>\n",
       "    </tr>\n",
       "    <tr>\n",
       "      <td>SqFtEnclosedPorch</td>\n",
       "      <td>0.015146</td>\n",
       "      <td>0.015350</td>\n",
       "      <td>-0.032103</td>\n",
       "      <td>-0.002453</td>\n",
       "      <td>-0.007702</td>\n",
       "      <td>1.000000</td>\n",
       "      <td>0.026402</td>\n",
       "      <td>NaN</td>\n",
       "      <td>-0.005945</td>\n",
       "      <td>0.006116</td>\n",
       "      <td>0.033692</td>\n",
       "      <td>-0.004613</td>\n",
       "      <td>0.150098</td>\n",
       "      <td>0.034589</td>\n",
       "    </tr>\n",
       "    <tr>\n",
       "      <td>TrafficNoise</td>\n",
       "      <td>-0.019141</td>\n",
       "      <td>-0.068134</td>\n",
       "      <td>-0.092635</td>\n",
       "      <td>-0.077343</td>\n",
       "      <td>-0.034162</td>\n",
       "      <td>0.026402</td>\n",
       "      <td>1.000000</td>\n",
       "      <td>NaN</td>\n",
       "      <td>-0.007387</td>\n",
       "      <td>0.046624</td>\n",
       "      <td>0.003418</td>\n",
       "      <td>0.000750</td>\n",
       "      <td>-0.038625</td>\n",
       "      <td>0.002725</td>\n",
       "    </tr>\n",
       "    <tr>\n",
       "      <td>AirportNoise</td>\n",
       "      <td>NaN</td>\n",
       "      <td>NaN</td>\n",
       "      <td>NaN</td>\n",
       "      <td>NaN</td>\n",
       "      <td>NaN</td>\n",
       "      <td>NaN</td>\n",
       "      <td>NaN</td>\n",
       "      <td>NaN</td>\n",
       "      <td>NaN</td>\n",
       "      <td>NaN</td>\n",
       "      <td>NaN</td>\n",
       "      <td>NaN</td>\n",
       "      <td>NaN</td>\n",
       "      <td>NaN</td>\n",
       "    </tr>\n",
       "    <tr>\n",
       "      <td>PowerLines</td>\n",
       "      <td>-0.007842</td>\n",
       "      <td>0.023410</td>\n",
       "      <td>0.014228</td>\n",
       "      <td>0.018413</td>\n",
       "      <td>0.017681</td>\n",
       "      <td>-0.005945</td>\n",
       "      <td>-0.007387</td>\n",
       "      <td>NaN</td>\n",
       "      <td>1.000000</td>\n",
       "      <td>0.007345</td>\n",
       "      <td>-0.011050</td>\n",
       "      <td>-0.013475</td>\n",
       "      <td>0.001927</td>\n",
       "      <td>-0.011122</td>\n",
       "    </tr>\n",
       "    <tr>\n",
       "      <td>OtherNuisances</td>\n",
       "      <td>-0.008572</td>\n",
       "      <td>-0.071787</td>\n",
       "      <td>-0.041647</td>\n",
       "      <td>-0.059115</td>\n",
       "      <td>-0.020643</td>\n",
       "      <td>0.006116</td>\n",
       "      <td>0.046624</td>\n",
       "      <td>NaN</td>\n",
       "      <td>0.007345</td>\n",
       "      <td>1.000000</td>\n",
       "      <td>0.015014</td>\n",
       "      <td>0.016235</td>\n",
       "      <td>-0.030293</td>\n",
       "      <td>0.016079</td>\n",
       "    </tr>\n",
       "    <tr>\n",
       "      <td>TidelandShoreland</td>\n",
       "      <td>0.085883</td>\n",
       "      <td>0.090686</td>\n",
       "      <td>0.025951</td>\n",
       "      <td>0.114222</td>\n",
       "      <td>0.065253</td>\n",
       "      <td>0.033692</td>\n",
       "      <td>0.003418</td>\n",
       "      <td>NaN</td>\n",
       "      <td>-0.011050</td>\n",
       "      <td>0.015014</td>\n",
       "      <td>1.000000</td>\n",
       "      <td>-0.017270</td>\n",
       "      <td>0.017082</td>\n",
       "      <td>0.993532</td>\n",
       "    </tr>\n",
       "    <tr>\n",
       "      <td>PresentUse</td>\n",
       "      <td>0.032020</td>\n",
       "      <td>-0.118489</td>\n",
       "      <td>0.109825</td>\n",
       "      <td>-0.005238</td>\n",
       "      <td>0.022659</td>\n",
       "      <td>-0.004613</td>\n",
       "      <td>0.000750</td>\n",
       "      <td>NaN</td>\n",
       "      <td>-0.013475</td>\n",
       "      <td>0.016235</td>\n",
       "      <td>-0.017270</td>\n",
       "      <td>1.000000</td>\n",
       "      <td>0.035832</td>\n",
       "      <td>-0.016807</td>\n",
       "    </tr>\n",
       "    <tr>\n",
       "      <td>has_porch</td>\n",
       "      <td>0.080662</td>\n",
       "      <td>0.163891</td>\n",
       "      <td>0.362511</td>\n",
       "      <td>0.304576</td>\n",
       "      <td>0.499036</td>\n",
       "      <td>0.150098</td>\n",
       "      <td>-0.038625</td>\n",
       "      <td>NaN</td>\n",
       "      <td>0.001927</td>\n",
       "      <td>-0.030293</td>\n",
       "      <td>0.017082</td>\n",
       "      <td>0.035832</td>\n",
       "      <td>1.000000</td>\n",
       "      <td>0.017890</td>\n",
       "    </tr>\n",
       "    <tr>\n",
       "      <td>on_water</td>\n",
       "      <td>0.086136</td>\n",
       "      <td>0.089556</td>\n",
       "      <td>0.026436</td>\n",
       "      <td>0.114150</td>\n",
       "      <td>0.065928</td>\n",
       "      <td>0.034589</td>\n",
       "      <td>0.002725</td>\n",
       "      <td>NaN</td>\n",
       "      <td>-0.011122</td>\n",
       "      <td>0.016079</td>\n",
       "      <td>0.993532</td>\n",
       "      <td>-0.016807</td>\n",
       "      <td>0.017890</td>\n",
       "      <td>1.000000</td>\n",
       "    </tr>\n",
       "  </tbody>\n",
       "</table>\n",
       "</div>"
      ],
      "text/plain": [
       "                   SalePrice  SqFt1stFloor  SqFt2ndFloor  SqFtTotLiving  \\\n",
       "SalePrice           1.000000      0.118724      0.157990       0.195816   \n",
       "SqFt1stFloor        0.118724      1.000000      0.165876       0.691599   \n",
       "SqFt2ndFloor        0.157990      0.165876      1.000000       0.655549   \n",
       "SqFtTotLiving       0.195816      0.691599      0.655549       1.000000   \n",
       "SqFtOpenPorch       0.107674      0.315807      0.344108       0.416241   \n",
       "SqFtEnclosedPorch   0.015146      0.015350     -0.032103      -0.002453   \n",
       "TrafficNoise       -0.019141     -0.068134     -0.092635      -0.077343   \n",
       "AirportNoise             NaN           NaN           NaN            NaN   \n",
       "PowerLines         -0.007842      0.023410      0.014228       0.018413   \n",
       "OtherNuisances     -0.008572     -0.071787     -0.041647      -0.059115   \n",
       "TidelandShoreland   0.085883      0.090686      0.025951       0.114222   \n",
       "PresentUse          0.032020     -0.118489      0.109825      -0.005238   \n",
       "has_porch           0.080662      0.163891      0.362511       0.304576   \n",
       "on_water            0.086136      0.089556      0.026436       0.114150   \n",
       "\n",
       "                   SqFtOpenPorch  SqFtEnclosedPorch  TrafficNoise  \\\n",
       "SalePrice               0.107674           0.015146     -0.019141   \n",
       "SqFt1stFloor            0.315807           0.015350     -0.068134   \n",
       "SqFt2ndFloor            0.344108          -0.032103     -0.092635   \n",
       "SqFtTotLiving           0.416241          -0.002453     -0.077343   \n",
       "SqFtOpenPorch           1.000000          -0.007702     -0.034162   \n",
       "SqFtEnclosedPorch      -0.007702           1.000000      0.026402   \n",
       "TrafficNoise           -0.034162           0.026402      1.000000   \n",
       "AirportNoise                 NaN                NaN           NaN   \n",
       "PowerLines              0.017681          -0.005945     -0.007387   \n",
       "OtherNuisances         -0.020643           0.006116      0.046624   \n",
       "TidelandShoreland       0.065253           0.033692      0.003418   \n",
       "PresentUse              0.022659          -0.004613      0.000750   \n",
       "has_porch               0.499036           0.150098     -0.038625   \n",
       "on_water                0.065928           0.034589      0.002725   \n",
       "\n",
       "                   AirportNoise  PowerLines  OtherNuisances  \\\n",
       "SalePrice                   NaN   -0.007842       -0.008572   \n",
       "SqFt1stFloor                NaN    0.023410       -0.071787   \n",
       "SqFt2ndFloor                NaN    0.014228       -0.041647   \n",
       "SqFtTotLiving               NaN    0.018413       -0.059115   \n",
       "SqFtOpenPorch               NaN    0.017681       -0.020643   \n",
       "SqFtEnclosedPorch           NaN   -0.005945        0.006116   \n",
       "TrafficNoise                NaN   -0.007387        0.046624   \n",
       "AirportNoise                NaN         NaN             NaN   \n",
       "PowerLines                  NaN    1.000000        0.007345   \n",
       "OtherNuisances              NaN    0.007345        1.000000   \n",
       "TidelandShoreland           NaN   -0.011050        0.015014   \n",
       "PresentUse                  NaN   -0.013475        0.016235   \n",
       "has_porch                   NaN    0.001927       -0.030293   \n",
       "on_water                    NaN   -0.011122        0.016079   \n",
       "\n",
       "                   TidelandShoreland  PresentUse  has_porch  on_water  \n",
       "SalePrice                   0.085883    0.032020   0.080662  0.086136  \n",
       "SqFt1stFloor                0.090686   -0.118489   0.163891  0.089556  \n",
       "SqFt2ndFloor                0.025951    0.109825   0.362511  0.026436  \n",
       "SqFtTotLiving               0.114222   -0.005238   0.304576  0.114150  \n",
       "SqFtOpenPorch               0.065253    0.022659   0.499036  0.065928  \n",
       "SqFtEnclosedPorch           0.033692   -0.004613   0.150098  0.034589  \n",
       "TrafficNoise                0.003418    0.000750  -0.038625  0.002725  \n",
       "AirportNoise                     NaN         NaN        NaN       NaN  \n",
       "PowerLines                 -0.011050   -0.013475   0.001927 -0.011122  \n",
       "OtherNuisances              0.015014    0.016235  -0.030293  0.016079  \n",
       "TidelandShoreland           1.000000   -0.017270   0.017082  0.993532  \n",
       "PresentUse                 -0.017270    1.000000   0.035832 -0.016807  \n",
       "has_porch                   0.017082    0.035832   1.000000  0.017890  \n",
       "on_water                    0.993532   -0.016807   0.017890  1.000000  "
      ]
     },
     "execution_count": 11,
     "metadata": {},
     "output_type": "execute_result"
    }
   ],
   "source": [
    "df.corr()"
   ]
  },
  {
   "cell_type": "markdown",
   "metadata": {},
   "source": [
    "#### The three claims we are addressing with this first model are 'Having a porch increases home sale price', 'The house filling a higher proportion of the overall lot decreases home sale price', and 'The presence of a nuisance (power line, traffic noise, airport noise) decreases home sale price. From the correlation matrix we can see that the rows 'has porch' would address the first claim, sq ft 1st floor addresses the second claim, and 'traffic noise, power lines, and other nuisances adress the third. The correlation between these features and the sale price isn't significant but large enough for our first model."
   ]
  },
  {
   "cell_type": "markdown",
   "metadata": {},
   "source": [
    "### Visualizing correlation with heatmap"
   ]
  },
  {
   "cell_type": "code",
   "execution_count": 13,
   "metadata": {},
   "outputs": [
    {
     "data": {
      "text/plain": [
       "<matplotlib.axes._subplots.AxesSubplot at 0x1ae7fad320>"
      ]
     },
     "execution_count": 13,
     "metadata": {},
     "output_type": "execute_result"
    },
    {
     "data": {
      "image/png": "[encoded data removed]",
      "text/plain": [
       "<Figure size 1080x720 with 2 Axes>"
      ]
     },
     "metadata": {
      "needs_background": "light"
     },
     "output_type": "display_data"
    }
   ],
   "source": [
    "fig, ax = plt.subplots(figsize=(15,10))\n",
    "sns.heatmap(df.corr())"
   ]
  },
  {
   "cell_type": "code",
   "execution_count": 21,
   "metadata": {},
   "outputs": [
    {
     "data": {
      "text/plain": [
       "0     43610\n",
       "1       180\n",
       "2        48\n",
       "3        11\n",
       "6         5\n",
       "5         5\n",
       "4         4\n",
       "61        1\n",
       "11        1\n",
       "10        1\n",
       "9         1\n",
       "Name: NbrBldgSites, dtype: int64"
      ]
     },
     "execution_count": 21,
     "metadata": {},
     "output_type": "execute_result"
    }
   ],
   "source": [
    "df['NbrBldgSites'].value_counts()"
   ]
  },
  {
   "cell_type": "code",
   "execution_count": 23,
   "metadata": {},
   "outputs": [],
   "source": [
    "correlation_df = df[['SalePrice', 'has_porch', 'on_water', 'duplex']]"
   ]
  },
  {
   "cell_type": "code",
   "execution_count": 24,
   "metadata": {},
   "outputs": [
    {
     "data": {
      "text/plain": [
       "<seaborn.axisgrid.PairGrid at 0x1ae7f96cc0>"
      ]
     },
     "execution_count": 24,
     "metadata": {},
     "output_type": "execute_result"
    },
    {
     "data": {
      "image/png": "[encoded data removed]",
      "text/plain": [
       "<Figure size 720x720 with 20 Axes>"
      ]
     },
     "metadata": {
      "needs_background": "light"
     },
     "output_type": "display_data"
    }
   ],
   "source": [
    "sns.pairplot(correlation_df.corr())"
   ]
  },
  {
   "cell_type": "code",
   "execution_count": 35,
   "metadata": {},
   "outputs": [],
   "source": [
    "fsm_df = df[['duplex', 'SalePrice']]"
   ]
  },
  {
   "cell_type": "code",
   "execution_count": 36,
   "metadata": {},
   "outputs": [],
   "source": [
    "formula = 'SalePrice ~ duplex'"
   ]
  },
  {
   "cell_type": "code",
   "execution_count": 44,
   "metadata": {},
   "outputs": [],
   "source": [
    "import statsmodels.api as sm"
   ]
  },
  {
   "cell_type": "code",
   "execution_count": 46,
   "metadata": {},
   "outputs": [],
   "source": [
    "correlation_df = df[['has_porch', 'on_water', 'duplex']]"
   ]
  },
  {
   "cell_type": "code",
   "execution_count": 47,
   "metadata": {},
   "outputs": [],
   "source": [
    "target_var = df['SalePrice']"
   ]
  },
  {
   "cell_type": "code",
   "execution_count": 48,
   "metadata": {},
   "outputs": [],
   "source": [
    "model = sm.OLS(target_var, correlation_df).fit()"
   ]
  },
  {
   "cell_type": "code",
   "execution_count": 49,
   "metadata": {},
   "outputs": [
    {
     "data": {
      "text/html": [
       "<table class=\"simpletable\">\n",
       "<caption>OLS Regression Results</caption>\n",
       "<tr>\n",
       "  <th>Dep. Variable:</th>        <td>SalePrice</td>    <th>  R-squared (uncentered):</th>       <td>   0.193</td>  \n",
       "</tr>\n",
       "<tr>\n",
       "  <th>Model:</th>                   <td>OLS</td>       <th>  Adj. R-squared (uncentered):</th>  <td>   0.193</td>  \n",
       "</tr>\n",
       "<tr>\n",
       "  <th>Method:</th>             <td>Least Squares</td>  <th>  F-statistic:       </th>           <td>   3498.</td>  \n",
       "</tr>\n",
       "<tr>\n",
       "  <th>Date:</th>             <td>Mon, 15 Jun 2020</td> <th>  Prob (F-statistic):</th>            <td>  0.00</td>   \n",
       "</tr>\n",
       "<tr>\n",
       "  <th>Time:</th>                 <td>14:07:30</td>     <th>  Log-Likelihood:    </th>          <td>-6.7552e+05</td>\n",
       "</tr>\n",
       "<tr>\n",
       "  <th>No. Observations:</th>      <td> 43867</td>      <th>  AIC:               </th>           <td>1.351e+06</td> \n",
       "</tr>\n",
       "<tr>\n",
       "  <th>Df Residuals:</th>          <td> 43864</td>      <th>  BIC:               </th>           <td>1.351e+06</td> \n",
       "</tr>\n",
       "<tr>\n",
       "  <th>Df Model:</th>              <td>     3</td>      <th>                     </th>               <td> </td>     \n",
       "</tr>\n",
       "<tr>\n",
       "  <th>Covariance Type:</th>      <td>nonrobust</td>    <th>                     </th>               <td> </td>     \n",
       "</tr>\n",
       "</table>\n",
       "<table class=\"simpletable\">\n",
       "<tr>\n",
       "      <td></td>         <th>coef</th>     <th>std err</th>      <th>t</th>      <th>P>|t|</th>  <th>[0.025</th>    <th>0.975]</th>  \n",
       "</tr>\n",
       "<tr>\n",
       "  <th>has_porch</th> <td> 6.389e+05</td> <td> 7753.016</td> <td>   82.405</td> <td> 0.000</td> <td> 6.24e+05</td> <td> 6.54e+05</td>\n",
       "</tr>\n",
       "<tr>\n",
       "  <th>on_water</th>  <td> 1.121e+06</td> <td> 5.27e+04</td> <td>   21.270</td> <td> 0.000</td> <td> 1.02e+06</td> <td> 1.22e+06</td>\n",
       "</tr>\n",
       "<tr>\n",
       "  <th>duplex</th>    <td> 2.206e+06</td> <td> 4.72e+04</td> <td>   46.765</td> <td> 0.000</td> <td> 2.11e+06</td> <td>  2.3e+06</td>\n",
       "</tr>\n",
       "</table>\n",
       "<table class=\"simpletable\">\n",
       "<tr>\n",
       "  <th>Omnibus:</th>       <td>77560.268</td> <th>  Durbin-Watson:     </th>   <td>   0.965</td>   \n",
       "</tr>\n",
       "<tr>\n",
       "  <th>Prob(Omnibus):</th>  <td> 0.000</td>   <th>  Jarque-Bera (JB):  </th> <td>197112640.456</td>\n",
       "</tr>\n",
       "<tr>\n",
       "  <th>Skew:</th>           <td>12.396</td>   <th>  Prob(JB):          </th>   <td>    0.00</td>   \n",
       "</tr>\n",
       "<tr>\n",
       "  <th>Kurtosis:</th>       <td>330.456</td>  <th>  Cond. No.          </th>   <td>    6.85</td>   \n",
       "</tr>\n",
       "</table><br/><br/>Warnings:<br/>[1] Standard Errors assume that the covariance matrix of the errors is correctly specified."
      ],
      "text/plain": [
       "<class 'statsmodels.iolib.summary.Summary'>\n",
       "\"\"\"\n",
       "                                 OLS Regression Results                                \n",
       "=======================================================================================\n",
       "Dep. Variable:              SalePrice   R-squared (uncentered):                   0.193\n",
       "Model:                            OLS   Adj. R-squared (uncentered):              0.193\n",
       "Method:                 Least Squares   F-statistic:                              3498.\n",
       "Date:                Mon, 15 Jun 2020   Prob (F-statistic):                        0.00\n",
       "Time:                        14:07:30   Log-Likelihood:                     -6.7552e+05\n",
       "No. Observations:               43867   AIC:                                  1.351e+06\n",
       "Df Residuals:                   43864   BIC:                                  1.351e+06\n",
       "Df Model:                           3                                                  \n",
       "Covariance Type:            nonrobust                                                  \n",
       "==============================================================================\n",
       "                 coef    std err          t      P>|t|      [0.025      0.975]\n",
       "------------------------------------------------------------------------------\n",
       "has_porch   6.389e+05   7753.016     82.405      0.000    6.24e+05    6.54e+05\n",
       "on_water    1.121e+06   5.27e+04     21.270      0.000    1.02e+06    1.22e+06\n",
       "duplex      2.206e+06   4.72e+04     46.765      0.000    2.11e+06     2.3e+06\n",
       "==============================================================================\n",
       "Omnibus:                    77560.268   Durbin-Watson:                   0.965\n",
       "Prob(Omnibus):                  0.000   Jarque-Bera (JB):        197112640.456\n",
       "Skew:                          12.396   Prob(JB):                         0.00\n",
       "Kurtosis:                     330.456   Cond. No.                         6.85\n",
       "==============================================================================\n",
       "\n",
       "Warnings:\n",
       "[1] Standard Errors assume that the covariance matrix of the errors is correctly specified.\n",
       "\"\"\""
      ]
     },
     "execution_count": 49,
     "metadata": {},
     "output_type": "execute_result"
    }
   ],
   "source": [
    "model.summary()"
   ]
  },
  {
   "cell_type": "markdown",
   "metadata": {},
   "source": [
    "### Identifying Categorical Variables"
   ]
  },
  {
   "cell_type": "code",
   "execution_count": 60,
   "metadata": {},
   "outputs": [
    {
     "data": {
      "image/png": "[encoded data removed]",
      "text/plain": [
       "<Figure size 1080x360 with 3 Axes>"
      ]
     },
     "metadata": {
      "needs_background": "light"
     },
     "output_type": "display_data"
    }
   ],
   "source": [
    "fig, ax = plt.subplots(1,3, figsize=(15,5))\n",
    "for xcol, ax in zip(['has_porch', 'on_water', 'duplex'], ax):\n",
    "    df.plot(kind='scatter', x=xcol, y='SalePrice', ax=ax, alpha=0.4, color='b')"
   ]
  },
  {
   "cell_type": "markdown",
   "metadata": {},
   "source": [
    "#### The scatter plot above shows that these three variables are categorical"
   ]
  },
  {
   "cell_type": "markdown",
   "metadata": {},
   "source": [
    "### Checking Linearity"
   ]
  },
  {
   "cell_type": "code",
   "execution_count": 50,
   "metadata": {},
   "outputs": [
    {
     "name": "stdout",
     "output_type": "stream",
     "text": [
      " Rsquared of FSM: 0.193065924164047\n",
      " Beta values of FSL: has_porch    6.388904e+05\n",
      "on_water     1.120809e+06\n",
      "duplex       2.205917e+06\n",
      "dtype: float64\n"
     ]
    }
   ],
   "source": [
    "rsquared = model.rsquared\n",
    "params = model.params\n",
    "print(f' Rsquared of FSM: {rsquared}')\n",
    "print(f' Beta values of FSL: {params}')"
   ]
  },
  {
   "cell_type": "code",
   "execution_count": 51,
   "metadata": {},
   "outputs": [],
   "source": [
    "from statsmodels.stats.diagnostic import linear_rainbow, het_breuschpagan\n",
    "from statsmodels.stats.outliers_influence import variance_inflation_factor"
   ]
  },
  {
   "cell_type": "code",
   "execution_count": 53,
   "metadata": {},
   "outputs": [
    {
     "name": "stdout",
     "output_type": "stream",
     "text": [
      "Rainbow statistic: 4.039231150166095\n",
      "Rainbow p-value: 0.0\n"
     ]
    }
   ],
   "source": [
    "rainbow_statistic, rainbow_p_value = linear_rainbow(model)\n",
    "print(\"Rainbow statistic:\", rainbow_statistic)\n",
    "print(\"Rainbow p-value:\", rainbow_p_value)"
   ]
  },
  {
   "cell_type": "markdown",
   "metadata": {},
   "source": [
    "### Checking Normality"
   ]
  },
  {
   "cell_type": "code",
   "execution_count": 55,
   "metadata": {},
   "outputs": [
    {
     "data": {
      "image/png": "[encoded data removed]",
      "text/plain": [
       "<Figure size 432x288 with 1 Axes>"
      ]
     },
     "execution_count": 55,
     "metadata": {},
     "output_type": "execute_result"
    },
    {
     "data": {
      "image/png": "[encoded data removed]",
      "text/plain": [
       "<Figure size 432x288 with 1 Axes>"
      ]
     },
     "metadata": {
      "needs_background": "light"
     },
     "output_type": "display_data"
    }
   ],
   "source": [
    "model_resids = model.resid\n",
    "sm.qqplot(model_resids)"
   ]
  },
  {
   "cell_type": "markdown",
   "metadata": {},
   "source": [
    "### Checking Homoscadasticity"
   ]
  },
  {
   "cell_type": "code",
   "execution_count": 57,
   "metadata": {},
   "outputs": [
    {
     "data": {
      "text/plain": [
       "<matplotlib.collections.PathCollection at 0x1ced52bbe0>"
      ]
     },
     "execution_count": 57,
     "metadata": {},
     "output_type": "execute_result"
    },
    {
     "data": {
      "image/png": "[encoded data removed]",
      "text/plain": [
       "<Figure size 432x288 with 1 Axes>"
      ]
     },
     "metadata": {
      "needs_background": "light"
     },
     "output_type": "display_data"
    }
   ],
   "source": [
    "y_hat = model.predict()\n",
    "fig, ax = plt.subplots()\n",
    "ax.scatter(y_hat, model_resids)"
   ]
  },
  {
   "cell_type": "markdown",
   "metadata": {},
   "source": []
  }
 ],
 "metadata": {
  "kernelspec": {
   "display_name": "Python 3",
   "language": "python",
   "name": "python3"
  },
  "language_info": {
   "codemirror_mode": {
    "name": "ipython",
    "version": 3
   },
   "file_extension": ".py",
   "mimetype": "text/x-python",
   "name": "python",
   "nbconvert_exporter": "python",
   "pygments_lexer": "ipython3",
   "version": "3.6.9"
  }
 },
 "nbformat": 4,
 "nbformat_minor": 4
}
