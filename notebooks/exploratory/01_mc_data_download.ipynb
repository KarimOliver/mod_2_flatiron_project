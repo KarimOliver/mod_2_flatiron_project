{
 "cells": [
  {
   "cell_type": "markdown",
   "metadata": {},
   "source": [
    "# Data Download Notebook"
   ]
  },
  {
   "cell_type": "markdown",
   "metadata": {},
   "source": [
    "Notebook uses !wget to download and unzip zip files from King County database\n",
    "\n",
    "Tables to download:\n",
    "- Real Property Sales\n",
    "- Residential Buildings \n",
    "- Parcel\n",
    "\n"
   ]
  },
  {
   "cell_type": "markdown",
   "metadata": {},
   "source": [
    "wget all three zip files"
   ]
  },
  {
   "cell_type": "code",
   "execution_count": 23,
   "metadata": {},
   "outputs": [
    {
     "output_type": "stream",
     "name": "stdout",
     "text": "--2020-06-12 19:27:22--  https://aqua.kingcounty.gov/extranet/assessor/Real%20Property%20Sales.zip\nResolving aqua.kingcounty.gov (aqua.kingcounty.gov)...146.129.240.28\nConnecting to aqua.kingcounty.gov (aqua.kingcounty.gov)|146.129.240.28|:443...connected.\nHTTP request sent, awaiting response...200 OK\nLength: 128257885 (122M) [application/x-zip-compressed]\nSaving to: ‘../../data/Real Property Sales.zip’\n\nReal Property Sales 100%[===================>] 122.32M   697KB/s    in 2m 40s  \n\n2020-06-12 19:30:02 (784 KB/s) - ‘../../data/Real Property Sales.zip’ saved [128257885/128257885]\n\n--2020-06-12 19:30:02--  https://aqua.kingcounty.gov/extranet/assessor/Residential%20Building.zip\nResolving aqua.kingcounty.gov (aqua.kingcounty.gov)...146.129.240.28\nConnecting to aqua.kingcounty.gov (aqua.kingcounty.gov)|146.129.240.28|:443...connected.\nHTTP request sent, awaiting response...200 OK\nLength: 24594851 (23M) [application/x-zip-compressed]\nSaving to: ‘../../data/Residential Building.zip’\n\nResidential Buildin 100%[===================>]  23.46M   828KB/s    in 30s     \n\n2020-06-12 19:30:32 (802 KB/s) - ‘../../data/Residential Building.zip’ saved [24594851/24594851]\n\n--2020-06-12 19:30:33--  https://aqua.kingcounty.gov/extranet/assessor/Parcel.zip\nResolving aqua.kingcounty.gov (aqua.kingcounty.gov)...146.129.240.28\nConnecting to aqua.kingcounty.gov (aqua.kingcounty.gov)|146.129.240.28|:443...connected.\nHTTP request sent, awaiting response...200 OK\nLength: 31026526 (30M) [application/x-zip-compressed]\nSaving to: ‘../../data/Parcel.zip’\n\nParcel.zip          100%[===================>]  29.59M   791KB/s    in 38s     \n\n2020-06-12 19:31:11 (805 KB/s) - ‘../../data/Parcel.zip’ saved [31026526/31026526]\n\n"
    }
   ],
   "source": [
    "# Real Property Sales\n",
    "!wget -P ../../data https://aqua.kingcounty.gov/extranet/assessor/Real%20Property%20Sales.zip\n",
    "\n",
    "# Residential Buildings\n",
    "!wget -P ../../data https://aqua.kingcounty.gov/extranet/assessor/Residential%20Building.zip\n",
    "\n",
    "# Parcel\n",
    "!wget -P ../../data https://aqua.kingcounty.gov/extranet/assessor/Parcel.zip\n"
   ]
  },
  {
   "cell_type": "markdown",
   "metadata": {},
   "source": [
    "unzip all three zip files to obtain required csv files"
   ]
  },
  {
   "cell_type": "code",
   "execution_count": 28,
   "metadata": {},
   "outputs": [
    {
     "output_type": "stream",
     "name": "stdout",
     "text": "Archive:  ../../data/Real Property Sales.zip\n  inflating: ../../data/EXTR_RPSale.csv\nArchive:  ../../data/Residential Building.zip\n  inflating: ../../data/EXTR_ResBldg.csv\nArchive:  ../../data/Parcel.zip\n  inflating: ../../data/EXTR_Parcel.csv\n"
    }
   ],
   "source": [
    "!unzip ../../data/'Real Property Sales.zip' -d ../../data\n",
    "!unzip ../../data/'Residential Building.zip' -d ../../data\n",
    "!unzip ../../data/Parcel.zip -d ../../data"
   ]
  },
  {
   "cell_type": "code",
   "execution_count": null,
   "metadata": {},
   "outputs": [],
   "source": []
  }
 ],
 "metadata": {
  "language_info": {
   "codemirror_mode": {
    "name": "ipython",
    "version": 3
   },
   "file_extension": ".py",
   "mimetype": "text/x-python",
   "name": "python",
   "nbconvert_exporter": "python",
   "pygments_lexer": "ipython3",
   "version": "3.6.9-final"
  },
  "orig_nbformat": 2,
  "kernelspec": {
   "name": "python3",
   "display_name": "Python 3"
  }
 },
 "nbformat": 4,
 "nbformat_minor": 2
}