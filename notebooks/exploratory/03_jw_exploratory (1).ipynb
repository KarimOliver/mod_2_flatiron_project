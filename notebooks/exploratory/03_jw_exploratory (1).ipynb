{
 "cells": [
  {
   "cell_type": "code",
   "execution_count": 3,
   "metadata": {},
   "outputs": [],
   "source": [
    "import pandas as pd\n",
    "import numpy as np\n",
    "import sqlite3\n",
    "from sqlalchemy import create_engine\n",
    "import seaborn as sns\n",
    "from statsmodels.formula.api import ols\n",
    "import matplotlib.pyplot as plt\n",
    "%matplotlib inline"
   ]
  },
  {
   "cell_type": "code",
   "execution_count": 4,
   "metadata": {},
   "outputs": [
    {
     "name": "stdout",
     "output_type": "stream",
     "text": [
      "The autoreload extension is already loaded. To reload it, use:\n",
      "  %reload_ext autoreload\n"
     ]
    }
   ],
   "source": [
    "%load_ext autoreload\n",
    "%autoreload 2\n",
    "import os\n",
    "import sys\n",
    "module_path = os.path.abspath(os.path.join(os.pardir, os.pardir))\n",
    "if module_path not in sys.path:\n",
    "    sys.path.append(module_path)"
   ]
  },
  {
   "cell_type": "code",
   "execution_count": 5,
   "metadata": {},
   "outputs": [],
   "source": [
    "import src.mc_functions as mc"
   ]
  },
  {
   "cell_type": "markdown",
   "metadata": {},
   "source": [
    "### Creating dataframe with the chosen columns (predictors and target variables)\n",
    "#### Target Variable: \n",
    "#### SalePrice\n",
    "#### Predictor Variables:\n",
    "#### SqFt1stFloor\n",
    "#### SqFt2ndFloor\n",
    "#### SqFtTotLiving\n",
    "##### The three variables above were chosen to address the claim 'Higher square footage increases home sale price.' Our first model will not be utilizing these variables but we would like to have the data if we need to engineer additional features to improve our R squared.\n",
    "#### SqFtOpenPorch\n",
    "#### SqFtEnclosedPorch\n",
    "#### has_porch  \n",
    "###### -(created as a binary column referring to if a property does or does not have a porch, {1=True, 2=False}\n",
    "##### The three variables above were chosen to addres the claim 'Having a porch increases home #sale price.'\n",
    "#### TrafficNoise\n",
    "#### AirportNoise\n",
    "#### PowerLines\n",
    "#### OtherNuisances\n",
    "##### The four variables above were chosen to address the claim 'The pressence of a nuisance (power lines, traffic noise, airport noise) decreases home sale price.'\n",
    "#### TidelandShoreland\n",
    "##### The variable above was chosen to address the claim 'Having a beachfront or lakefront increases home sale price.\n",
    "#### PresentUse\n",
    "##### The variable above was chosen to filter which records describe residential housing data"
   ]
  },
  {
   "cell_type": "code",
   "execution_count": 7,
   "metadata": {},
   "outputs": [],
   "source": [
    "df = mc.create_dataframe()"
   ]
  },
  {
   "cell_type": "markdown",
   "metadata": {},
   "source": [
    "#### Our dataframe has 43,867 rows (sales records)"
   ]
  },
  {
   "cell_type": "code",
   "execution_count": 44,
   "metadata": {},
   "outputs": [
    {
     "data": {
      "text/html": [
       "<div>\n",
       "<style scoped>\n",
       "    .dataframe tbody tr th:only-of-type {\n",
       "        vertical-align: middle;\n",
       "    }\n",
       "\n",
       "    .dataframe tbody tr th {\n",
       "        vertical-align: top;\n",
       "    }\n",
       "\n",
       "    .dataframe thead th {\n",
       "        text-align: right;\n",
       "    }\n",
       "</style>\n",
       "<table border=\"1\" class=\"dataframe\">\n",
       "  <thead>\n",
       "    <tr style=\"text-align: right;\">\n",
       "      <th></th>\n",
       "      <th>Major</th>\n",
       "      <th>Minor</th>\n",
       "      <th>SalePrice</th>\n",
       "      <th>SqFt1stFloor</th>\n",
       "      <th>SqFt2ndFloor</th>\n",
       "      <th>SqFtTotLiving</th>\n",
       "      <th>SqFtOpenPorch</th>\n",
       "      <th>SqFtEnclosedPorch</th>\n",
       "      <th>TrafficNoise</th>\n",
       "      <th>AirportNoise</th>\n",
       "      <th>PowerLines</th>\n",
       "      <th>OtherNuisances</th>\n",
       "      <th>TidelandShoreland</th>\n",
       "      <th>PresentUse</th>\n",
       "      <th>has_porch</th>\n",
       "    </tr>\n",
       "  </thead>\n",
       "  <tbody>\n",
       "    <tr>\n",
       "      <td>0</td>\n",
       "      <td>213043</td>\n",
       "      <td>0120</td>\n",
       "      <td>560000</td>\n",
       "      <td>1930</td>\n",
       "      <td>0</td>\n",
       "      <td>1930</td>\n",
       "      <td>180</td>\n",
       "      <td>0</td>\n",
       "      <td>0</td>\n",
       "      <td>0</td>\n",
       "      <td>0</td>\n",
       "      <td>0</td>\n",
       "      <td>0</td>\n",
       "      <td>2</td>\n",
       "      <td>1</td>\n",
       "    </tr>\n",
       "    <tr>\n",
       "      <td>1</td>\n",
       "      <td>940652</td>\n",
       "      <td>0630</td>\n",
       "      <td>435000</td>\n",
       "      <td>1057</td>\n",
       "      <td>918</td>\n",
       "      <td>1975</td>\n",
       "      <td>45</td>\n",
       "      <td>0</td>\n",
       "      <td>0</td>\n",
       "      <td>0</td>\n",
       "      <td>0</td>\n",
       "      <td>0</td>\n",
       "      <td>0</td>\n",
       "      <td>2</td>\n",
       "      <td>1</td>\n",
       "    </tr>\n",
       "    <tr>\n",
       "      <td>2</td>\n",
       "      <td>937630</td>\n",
       "      <td>0695</td>\n",
       "      <td>550000</td>\n",
       "      <td>370</td>\n",
       "      <td>540</td>\n",
       "      <td>1560</td>\n",
       "      <td>0</td>\n",
       "      <td>0</td>\n",
       "      <td>0</td>\n",
       "      <td>0</td>\n",
       "      <td>0</td>\n",
       "      <td>0</td>\n",
       "      <td>0</td>\n",
       "      <td>2</td>\n",
       "      <td>0</td>\n",
       "    </tr>\n",
       "    <tr>\n",
       "      <td>3</td>\n",
       "      <td>098400</td>\n",
       "      <td>0450</td>\n",
       "      <td>409950</td>\n",
       "      <td>1250</td>\n",
       "      <td>0</td>\n",
       "      <td>1850</td>\n",
       "      <td>0</td>\n",
       "      <td>0</td>\n",
       "      <td>0</td>\n",
       "      <td>0</td>\n",
       "      <td>0</td>\n",
       "      <td>0</td>\n",
       "      <td>0</td>\n",
       "      <td>2</td>\n",
       "      <td>0</td>\n",
       "    </tr>\n",
       "    <tr>\n",
       "      <td>4</td>\n",
       "      <td>030200</td>\n",
       "      <td>0645</td>\n",
       "      <td>380000</td>\n",
       "      <td>920</td>\n",
       "      <td>0</td>\n",
       "      <td>1750</td>\n",
       "      <td>670</td>\n",
       "      <td>0</td>\n",
       "      <td>0</td>\n",
       "      <td>0</td>\n",
       "      <td>0</td>\n",
       "      <td>0</td>\n",
       "      <td>0</td>\n",
       "      <td>2</td>\n",
       "      <td>1</td>\n",
       "    </tr>\n",
       "    <tr>\n",
       "      <td>...</td>\n",
       "      <td>...</td>\n",
       "      <td>...</td>\n",
       "      <td>...</td>\n",
       "      <td>...</td>\n",
       "      <td>...</td>\n",
       "      <td>...</td>\n",
       "      <td>...</td>\n",
       "      <td>...</td>\n",
       "      <td>...</td>\n",
       "      <td>...</td>\n",
       "      <td>...</td>\n",
       "      <td>...</td>\n",
       "      <td>...</td>\n",
       "      <td>...</td>\n",
       "      <td>...</td>\n",
       "    </tr>\n",
       "    <tr>\n",
       "      <td>43862</td>\n",
       "      <td>757820</td>\n",
       "      <td>0400</td>\n",
       "      <td>930000</td>\n",
       "      <td>1300</td>\n",
       "      <td>0</td>\n",
       "      <td>2600</td>\n",
       "      <td>0</td>\n",
       "      <td>0</td>\n",
       "      <td>0</td>\n",
       "      <td>0</td>\n",
       "      <td>0</td>\n",
       "      <td>0</td>\n",
       "      <td>0</td>\n",
       "      <td>2</td>\n",
       "      <td>0</td>\n",
       "    </tr>\n",
       "    <tr>\n",
       "      <td>43863</td>\n",
       "      <td>390497</td>\n",
       "      <td>0150</td>\n",
       "      <td>850000</td>\n",
       "      <td>1160</td>\n",
       "      <td>1060</td>\n",
       "      <td>2220</td>\n",
       "      <td>40</td>\n",
       "      <td>0</td>\n",
       "      <td>0</td>\n",
       "      <td>0</td>\n",
       "      <td>0</td>\n",
       "      <td>0</td>\n",
       "      <td>0</td>\n",
       "      <td>2</td>\n",
       "      <td>1</td>\n",
       "    </tr>\n",
       "    <tr>\n",
       "      <td>43864</td>\n",
       "      <td>246090</td>\n",
       "      <td>0090</td>\n",
       "      <td>686000</td>\n",
       "      <td>1010</td>\n",
       "      <td>0</td>\n",
       "      <td>1910</td>\n",
       "      <td>80</td>\n",
       "      <td>0</td>\n",
       "      <td>2</td>\n",
       "      <td>0</td>\n",
       "      <td>0</td>\n",
       "      <td>0</td>\n",
       "      <td>0</td>\n",
       "      <td>3</td>\n",
       "      <td>1</td>\n",
       "    </tr>\n",
       "    <tr>\n",
       "      <td>43865</td>\n",
       "      <td>143800</td>\n",
       "      <td>0420</td>\n",
       "      <td>695000</td>\n",
       "      <td>1000</td>\n",
       "      <td>1520</td>\n",
       "      <td>2520</td>\n",
       "      <td>350</td>\n",
       "      <td>0</td>\n",
       "      <td>0</td>\n",
       "      <td>0</td>\n",
       "      <td>0</td>\n",
       "      <td>0</td>\n",
       "      <td>0</td>\n",
       "      <td>2</td>\n",
       "      <td>1</td>\n",
       "    </tr>\n",
       "    <tr>\n",
       "      <td>43866</td>\n",
       "      <td>192300</td>\n",
       "      <td>0170</td>\n",
       "      <td>1550000</td>\n",
       "      <td>2050</td>\n",
       "      <td>1660</td>\n",
       "      <td>3830</td>\n",
       "      <td>100</td>\n",
       "      <td>0</td>\n",
       "      <td>0</td>\n",
       "      <td>0</td>\n",
       "      <td>0</td>\n",
       "      <td>0</td>\n",
       "      <td>0</td>\n",
       "      <td>2</td>\n",
       "      <td>1</td>\n",
       "    </tr>\n",
       "  </tbody>\n",
       "</table>\n",
       "<p>29960 rows × 15 columns</p>\n",
       "</div>"
      ],
      "text/plain": [
       "        Major Minor  SalePrice  SqFt1stFloor  SqFt2ndFloor  SqFtTotLiving  \\\n",
       "0      213043  0120     560000          1930             0           1930   \n",
       "1      940652  0630     435000          1057           918           1975   \n",
       "2      937630  0695     550000           370           540           1560   \n",
       "3      098400  0450     409950          1250             0           1850   \n",
       "4      030200  0645     380000           920             0           1750   \n",
       "...       ...   ...        ...           ...           ...            ...   \n",
       "43862  757820  0400     930000          1300             0           2600   \n",
       "43863  390497  0150     850000          1160          1060           2220   \n",
       "43864  246090  0090     686000          1010             0           1910   \n",
       "43865  143800  0420     695000          1000          1520           2520   \n",
       "43866  192300  0170    1550000          2050          1660           3830   \n",
       "\n",
       "       SqFtOpenPorch  SqFtEnclosedPorch  TrafficNoise  AirportNoise  \\\n",
       "0                180                  0             0             0   \n",
       "1                 45                  0             0             0   \n",
       "2                  0                  0             0             0   \n",
       "3                  0                  0             0             0   \n",
       "4                670                  0             0             0   \n",
       "...              ...                ...           ...           ...   \n",
       "43862              0                  0             0             0   \n",
       "43863             40                  0             0             0   \n",
       "43864             80                  0             2             0   \n",
       "43865            350                  0             0             0   \n",
       "43866            100                  0             0             0   \n",
       "\n",
       "       PowerLines  OtherNuisances  TidelandShoreland  PresentUse  has_porch  \n",
       "0               0               0                  0           2          1  \n",
       "1               0               0                  0           2          1  \n",
       "2               0               0                  0           2          0  \n",
       "3               0               0                  0           2          0  \n",
       "4               0               0                  0           2          1  \n",
       "...           ...             ...                ...         ...        ...  \n",
       "43862           0               0                  0           2          0  \n",
       "43863           0               0                  0           2          1  \n",
       "43864           0               0                  0           3          1  \n",
       "43865           0               0                  0           2          1  \n",
       "43866           0               0                  0           2          1  \n",
       "\n",
       "[29960 rows x 15 columns]"
      ]
     },
     "execution_count": 44,
     "metadata": {},
     "output_type": "execute_result"
    }
   ],
   "source": [
    "df"
   ]
  },
  {
   "cell_type": "code",
   "execution_count": 14,
   "metadata": {},
   "outputs": [
    {
     "data": {
      "text/plain": [
       "(43867, 15)"
      ]
     },
     "execution_count": 14,
     "metadata": {},
     "output_type": "execute_result"
    }
   ],
   "source": [
    "df.shape"
   ]
  },
  {
   "cell_type": "markdown",
   "metadata": {},
   "source": [
    "#### We need to remove the records from the dataframe that have 0 as the value for Sale Price so our model is not thrown off"
   ]
  },
  {
   "cell_type": "code",
   "execution_count": 15,
   "metadata": {},
   "outputs": [],
   "source": [
    "df = df[df['SalePrice'] > 0]"
   ]
  },
  {
   "cell_type": "markdown",
   "metadata": {},
   "source": [
    "#### We now have 29,961 records in our dataframe"
   ]
  },
  {
   "cell_type": "code",
   "execution_count": 17,
   "metadata": {},
   "outputs": [
    {
     "data": {
      "text/plain": [
       "(29961, 15)"
      ]
     },
     "execution_count": 17,
     "metadata": {},
     "output_type": "execute_result"
    }
   ],
   "source": [
    "df.shape"
   ]
  },
  {
   "cell_type": "markdown",
   "metadata": {},
   "source": [
    "#### We also need to remove any records that have 0 as the value from the square ft 1st floor column"
   ]
  },
  {
   "cell_type": "code",
   "execution_count": 18,
   "metadata": {},
   "outputs": [],
   "source": [
    "df = df[df['SqFt1stFloor'] > 0]"
   ]
  },
  {
   "cell_type": "markdown",
   "metadata": {},
   "source": [
    "#### There was only one record that had 0 sq ft for the 1st floor, our dataframe now has 29,960 records"
   ]
  },
  {
   "cell_type": "code",
   "execution_count": 19,
   "metadata": {},
   "outputs": [
    {
     "data": {
      "text/plain": [
       "(29960, 15)"
      ]
     },
     "execution_count": 19,
     "metadata": {},
     "output_type": "execute_result"
    }
   ],
   "source": [
    "df.shape"
   ]
  },
  {
   "cell_type": "code",
   "execution_count": 48,
   "metadata": {},
   "outputs": [
    {
     "data": {
      "text/html": [
       "<div>\n",
       "<style scoped>\n",
       "    .dataframe tbody tr th:only-of-type {\n",
       "        vertical-align: middle;\n",
       "    }\n",
       "\n",
       "    .dataframe tbody tr th {\n",
       "        vertical-align: top;\n",
       "    }\n",
       "\n",
       "    .dataframe thead th {\n",
       "        text-align: right;\n",
       "    }\n",
       "</style>\n",
       "<table border=\"1\" class=\"dataframe\">\n",
       "  <thead>\n",
       "    <tr style=\"text-align: right;\">\n",
       "      <th></th>\n",
       "      <th>Major</th>\n",
       "      <th>Minor</th>\n",
       "      <th>SalePrice</th>\n",
       "      <th>SqFt1stFloor</th>\n",
       "      <th>SqFt2ndFloor</th>\n",
       "      <th>SqFtTotLiving</th>\n",
       "      <th>SqFtOpenPorch</th>\n",
       "      <th>SqFtEnclosedPorch</th>\n",
       "      <th>TrafficNoise</th>\n",
       "      <th>AirportNoise</th>\n",
       "      <th>PowerLines</th>\n",
       "      <th>OtherNuisances</th>\n",
       "      <th>TidelandShoreland</th>\n",
       "      <th>PresentUse</th>\n",
       "      <th>has_porch</th>\n",
       "    </tr>\n",
       "  </thead>\n",
       "  <tbody>\n",
       "    <tr>\n",
       "      <td>0</td>\n",
       "      <td>213043</td>\n",
       "      <td>0120</td>\n",
       "      <td>560000</td>\n",
       "      <td>1930</td>\n",
       "      <td>0</td>\n",
       "      <td>1930</td>\n",
       "      <td>180</td>\n",
       "      <td>0</td>\n",
       "      <td>0</td>\n",
       "      <td>0</td>\n",
       "      <td>0</td>\n",
       "      <td>0</td>\n",
       "      <td>0</td>\n",
       "      <td>2</td>\n",
       "      <td>1</td>\n",
       "    </tr>\n",
       "    <tr>\n",
       "      <td>1</td>\n",
       "      <td>940652</td>\n",
       "      <td>0630</td>\n",
       "      <td>435000</td>\n",
       "      <td>1057</td>\n",
       "      <td>918</td>\n",
       "      <td>1975</td>\n",
       "      <td>45</td>\n",
       "      <td>0</td>\n",
       "      <td>0</td>\n",
       "      <td>0</td>\n",
       "      <td>0</td>\n",
       "      <td>0</td>\n",
       "      <td>0</td>\n",
       "      <td>2</td>\n",
       "      <td>1</td>\n",
       "    </tr>\n",
       "    <tr>\n",
       "      <td>2</td>\n",
       "      <td>937630</td>\n",
       "      <td>0695</td>\n",
       "      <td>550000</td>\n",
       "      <td>370</td>\n",
       "      <td>540</td>\n",
       "      <td>1560</td>\n",
       "      <td>0</td>\n",
       "      <td>0</td>\n",
       "      <td>0</td>\n",
       "      <td>0</td>\n",
       "      <td>0</td>\n",
       "      <td>0</td>\n",
       "      <td>0</td>\n",
       "      <td>2</td>\n",
       "      <td>0</td>\n",
       "    </tr>\n",
       "    <tr>\n",
       "      <td>3</td>\n",
       "      <td>098400</td>\n",
       "      <td>0450</td>\n",
       "      <td>409950</td>\n",
       "      <td>1250</td>\n",
       "      <td>0</td>\n",
       "      <td>1850</td>\n",
       "      <td>0</td>\n",
       "      <td>0</td>\n",
       "      <td>0</td>\n",
       "      <td>0</td>\n",
       "      <td>0</td>\n",
       "      <td>0</td>\n",
       "      <td>0</td>\n",
       "      <td>2</td>\n",
       "      <td>0</td>\n",
       "    </tr>\n",
       "    <tr>\n",
       "      <td>4</td>\n",
       "      <td>030200</td>\n",
       "      <td>0645</td>\n",
       "      <td>380000</td>\n",
       "      <td>920</td>\n",
       "      <td>0</td>\n",
       "      <td>1750</td>\n",
       "      <td>670</td>\n",
       "      <td>0</td>\n",
       "      <td>0</td>\n",
       "      <td>0</td>\n",
       "      <td>0</td>\n",
       "      <td>0</td>\n",
       "      <td>0</td>\n",
       "      <td>2</td>\n",
       "      <td>1</td>\n",
       "    </tr>\n",
       "    <tr>\n",
       "      <td>...</td>\n",
       "      <td>...</td>\n",
       "      <td>...</td>\n",
       "      <td>...</td>\n",
       "      <td>...</td>\n",
       "      <td>...</td>\n",
       "      <td>...</td>\n",
       "      <td>...</td>\n",
       "      <td>...</td>\n",
       "      <td>...</td>\n",
       "      <td>...</td>\n",
       "      <td>...</td>\n",
       "      <td>...</td>\n",
       "      <td>...</td>\n",
       "      <td>...</td>\n",
       "      <td>...</td>\n",
       "    </tr>\n",
       "    <tr>\n",
       "      <td>43862</td>\n",
       "      <td>757820</td>\n",
       "      <td>0400</td>\n",
       "      <td>930000</td>\n",
       "      <td>1300</td>\n",
       "      <td>0</td>\n",
       "      <td>2600</td>\n",
       "      <td>0</td>\n",
       "      <td>0</td>\n",
       "      <td>0</td>\n",
       "      <td>0</td>\n",
       "      <td>0</td>\n",
       "      <td>0</td>\n",
       "      <td>0</td>\n",
       "      <td>2</td>\n",
       "      <td>0</td>\n",
       "    </tr>\n",
       "    <tr>\n",
       "      <td>43863</td>\n",
       "      <td>390497</td>\n",
       "      <td>0150</td>\n",
       "      <td>850000</td>\n",
       "      <td>1160</td>\n",
       "      <td>1060</td>\n",
       "      <td>2220</td>\n",
       "      <td>40</td>\n",
       "      <td>0</td>\n",
       "      <td>0</td>\n",
       "      <td>0</td>\n",
       "      <td>0</td>\n",
       "      <td>0</td>\n",
       "      <td>0</td>\n",
       "      <td>2</td>\n",
       "      <td>1</td>\n",
       "    </tr>\n",
       "    <tr>\n",
       "      <td>43864</td>\n",
       "      <td>246090</td>\n",
       "      <td>0090</td>\n",
       "      <td>686000</td>\n",
       "      <td>1010</td>\n",
       "      <td>0</td>\n",
       "      <td>1910</td>\n",
       "      <td>80</td>\n",
       "      <td>0</td>\n",
       "      <td>2</td>\n",
       "      <td>0</td>\n",
       "      <td>0</td>\n",
       "      <td>0</td>\n",
       "      <td>0</td>\n",
       "      <td>3</td>\n",
       "      <td>1</td>\n",
       "    </tr>\n",
       "    <tr>\n",
       "      <td>43865</td>\n",
       "      <td>143800</td>\n",
       "      <td>0420</td>\n",
       "      <td>695000</td>\n",
       "      <td>1000</td>\n",
       "      <td>1520</td>\n",
       "      <td>2520</td>\n",
       "      <td>350</td>\n",
       "      <td>0</td>\n",
       "      <td>0</td>\n",
       "      <td>0</td>\n",
       "      <td>0</td>\n",
       "      <td>0</td>\n",
       "      <td>0</td>\n",
       "      <td>2</td>\n",
       "      <td>1</td>\n",
       "    </tr>\n",
       "    <tr>\n",
       "      <td>43866</td>\n",
       "      <td>192300</td>\n",
       "      <td>0170</td>\n",
       "      <td>1550000</td>\n",
       "      <td>2050</td>\n",
       "      <td>1660</td>\n",
       "      <td>3830</td>\n",
       "      <td>100</td>\n",
       "      <td>0</td>\n",
       "      <td>0</td>\n",
       "      <td>0</td>\n",
       "      <td>0</td>\n",
       "      <td>0</td>\n",
       "      <td>0</td>\n",
       "      <td>2</td>\n",
       "      <td>1</td>\n",
       "    </tr>\n",
       "  </tbody>\n",
       "</table>\n",
       "<p>29960 rows × 15 columns</p>\n",
       "</div>"
      ],
      "text/plain": [
       "        Major Minor  SalePrice  SqFt1stFloor  SqFt2ndFloor  SqFtTotLiving  \\\n",
       "0      213043  0120     560000          1930             0           1930   \n",
       "1      940652  0630     435000          1057           918           1975   \n",
       "2      937630  0695     550000           370           540           1560   \n",
       "3      098400  0450     409950          1250             0           1850   \n",
       "4      030200  0645     380000           920             0           1750   \n",
       "...       ...   ...        ...           ...           ...            ...   \n",
       "43862  757820  0400     930000          1300             0           2600   \n",
       "43863  390497  0150     850000          1160          1060           2220   \n",
       "43864  246090  0090     686000          1010             0           1910   \n",
       "43865  143800  0420     695000          1000          1520           2520   \n",
       "43866  192300  0170    1550000          2050          1660           3830   \n",
       "\n",
       "       SqFtOpenPorch  SqFtEnclosedPorch  TrafficNoise  AirportNoise  \\\n",
       "0                180                  0             0             0   \n",
       "1                 45                  0             0             0   \n",
       "2                  0                  0             0             0   \n",
       "3                  0                  0             0             0   \n",
       "4                670                  0             0             0   \n",
       "...              ...                ...           ...           ...   \n",
       "43862              0                  0             0             0   \n",
       "43863             40                  0             0             0   \n",
       "43864             80                  0             2             0   \n",
       "43865            350                  0             0             0   \n",
       "43866            100                  0             0             0   \n",
       "\n",
       "       PowerLines  OtherNuisances  TidelandShoreland  PresentUse  has_porch  \n",
       "0               0               0                  0           2          1  \n",
       "1               0               0                  0           2          1  \n",
       "2               0               0                  0           2          0  \n",
       "3               0               0                  0           2          0  \n",
       "4               0               0                  0           2          1  \n",
       "...           ...             ...                ...         ...        ...  \n",
       "43862           0               0                  0           2          0  \n",
       "43863           0               0                  0           2          1  \n",
       "43864           0               0                  0           3          1  \n",
       "43865           0               0                  0           2          1  \n",
       "43866           0               0                  0           2          1  \n",
       "\n",
       "[29960 rows x 15 columns]"
      ]
     },
     "execution_count": 48,
     "metadata": {},
     "output_type": "execute_result"
    }
   ],
   "source": [
    "df"
   ]
  },
  {
   "cell_type": "markdown",
   "metadata": {},
   "source": [
    "### Checking to see if data for model has a normal distribution"
   ]
  },
  {
   "cell_type": "code",
   "execution_count": 23,
   "metadata": {},
   "outputs": [
    {
     "data": {
      "text/html": [
       "<table class=\"simpletable\">\n",
       "<caption>OLS Regression Results</caption>\n",
       "<tr>\n",
       "  <th>Dep. Variable:</th>        <td>SalePrice</td>    <th>  R-squared:         </th>  <td>   0.079</td>  \n",
       "</tr>\n",
       "<tr>\n",
       "  <th>Model:</th>                   <td>OLS</td>       <th>  Adj. R-squared:    </th>  <td>   0.079</td>  \n",
       "</tr>\n",
       "<tr>\n",
       "  <th>Method:</th>             <td>Least Squares</td>  <th>  F-statistic:       </th>  <td>   234.9</td>  \n",
       "</tr>\n",
       "<tr>\n",
       "  <th>Date:</th>             <td>Mon, 15 Jun 2020</td> <th>  Prob (F-statistic):</th>   <td>  0.00</td>   \n",
       "</tr>\n",
       "<tr>\n",
       "  <th>Time:</th>                 <td>18:15:38</td>     <th>  Log-Likelihood:    </th> <td>-4.6370e+05</td>\n",
       "</tr>\n",
       "<tr>\n",
       "  <th>No. Observations:</th>      <td> 29960</td>      <th>  AIC:               </th>  <td>9.274e+05</td> \n",
       "</tr>\n",
       "<tr>\n",
       "  <th>Df Residuals:</th>          <td> 29948</td>      <th>  BIC:               </th>  <td>9.275e+05</td> \n",
       "</tr>\n",
       "<tr>\n",
       "  <th>Df Model:</th>              <td>    11</td>      <th>                     </th>      <td> </td>     \n",
       "</tr>\n",
       "<tr>\n",
       "  <th>Covariance Type:</th>      <td>nonrobust</td>    <th>                     </th>      <td> </td>     \n",
       "</tr>\n",
       "</table>\n",
       "<table class=\"simpletable\">\n",
       "<tr>\n",
       "          <td></td>             <th>coef</th>     <th>std err</th>      <th>t</th>      <th>P>|t|</th>  <th>[0.025</th>    <th>0.975]</th>  \n",
       "</tr>\n",
       "<tr>\n",
       "  <th>Intercept</th>         <td> 1.524e+05</td> <td> 2.22e+04</td> <td>    6.869</td> <td> 0.000</td> <td> 1.09e+05</td> <td> 1.96e+05</td>\n",
       "</tr>\n",
       "<tr>\n",
       "  <th>SqFt1stFloor</th>      <td>   60.1853</td> <td>   23.599</td> <td>    2.550</td> <td> 0.011</td> <td>   13.930</td> <td>  106.441</td>\n",
       "</tr>\n",
       "<tr>\n",
       "  <th>SqFt2ndFloor</th>      <td>   12.1621</td> <td>   17.915</td> <td>    0.679</td> <td> 0.497</td> <td>  -22.953</td> <td>   47.277</td>\n",
       "</tr>\n",
       "<tr>\n",
       "  <th>SqFtTotLiving</th>     <td>  274.1132</td> <td>   15.944</td> <td>   17.193</td> <td> 0.000</td> <td>  242.863</td> <td>  305.363</td>\n",
       "</tr>\n",
       "<tr>\n",
       "  <th>SqFtOpenPorch</th>     <td>  230.4930</td> <td>   61.962</td> <td>    3.720</td> <td> 0.000</td> <td>  109.044</td> <td>  351.942</td>\n",
       "</tr>\n",
       "<tr>\n",
       "  <th>SqFtEnclosedPorch</th> <td>  831.4123</td> <td>  206.976</td> <td>    4.017</td> <td> 0.000</td> <td>  425.730</td> <td> 1237.095</td>\n",
       "</tr>\n",
       "<tr>\n",
       "  <th>TrafficNoise</th>      <td> 1.362e+04</td> <td>  1.3e+04</td> <td>    1.046</td> <td> 0.295</td> <td>-1.19e+04</td> <td> 3.91e+04</td>\n",
       "</tr>\n",
       "<tr>\n",
       "  <th>PowerLines</th>        <td>-1.744e+05</td> <td> 7.23e+04</td> <td>   -2.412</td> <td> 0.016</td> <td>-3.16e+05</td> <td>-3.27e+04</td>\n",
       "</tr>\n",
       "<tr>\n",
       "  <th>OtherNuisances</th>    <td> 4.968e+04</td> <td> 4.21e+04</td> <td>    1.180</td> <td> 0.238</td> <td>-3.29e+04</td> <td> 1.32e+05</td>\n",
       "</tr>\n",
       "<tr>\n",
       "  <th>TidelandShoreland</th> <td> 9.633e+05</td> <td>  4.1e+04</td> <td>   23.495</td> <td> 0.000</td> <td> 8.83e+05</td> <td> 1.04e+06</td>\n",
       "</tr>\n",
       "<tr>\n",
       "  <th>PresentUse</th>        <td>  813.8913</td> <td>  269.537</td> <td>    3.020</td> <td> 0.003</td> <td>  285.587</td> <td> 1342.195</td>\n",
       "</tr>\n",
       "<tr>\n",
       "  <th>has_porch</th>         <td>-1.344e+04</td> <td> 1.79e+04</td> <td>   -0.751</td> <td> 0.453</td> <td>-4.85e+04</td> <td> 2.17e+04</td>\n",
       "</tr>\n",
       "</table>\n",
       "<table class=\"simpletable\">\n",
       "<tr>\n",
       "  <th>Omnibus:</th>       <td>58267.959</td> <th>  Durbin-Watson:     </th>   <td>   0.637</td>   \n",
       "</tr>\n",
       "<tr>\n",
       "  <th>Prob(Omnibus):</th>  <td> 0.000</td>   <th>  Jarque-Bera (JB):  </th> <td>160784559.756</td>\n",
       "</tr>\n",
       "<tr>\n",
       "  <th>Skew:</th>           <td>15.420</td>   <th>  Prob(JB):          </th>   <td>    0.00</td>   \n",
       "</tr>\n",
       "<tr>\n",
       "  <th>Kurtosis:</th>       <td>360.559</td>  <th>  Cond. No.          </th>   <td>2.76e+04</td>   \n",
       "</tr>\n",
       "</table><br/><br/>Warnings:<br/>[1] Standard Errors assume that the covariance matrix of the errors is correctly specified.<br/>[2] The condition number is large, 2.76e+04. This might indicate that there are<br/>strong multicollinearity or other numerical problems."
      ],
      "text/plain": [
       "<class 'statsmodels.iolib.summary.Summary'>\n",
       "\"\"\"\n",
       "                            OLS Regression Results                            \n",
       "==============================================================================\n",
       "Dep. Variable:              SalePrice   R-squared:                       0.079\n",
       "Model:                            OLS   Adj. R-squared:                  0.079\n",
       "Method:                 Least Squares   F-statistic:                     234.9\n",
       "Date:                Mon, 15 Jun 2020   Prob (F-statistic):               0.00\n",
       "Time:                        18:15:38   Log-Likelihood:            -4.6370e+05\n",
       "No. Observations:               29960   AIC:                         9.274e+05\n",
       "Df Residuals:                   29948   BIC:                         9.275e+05\n",
       "Df Model:                          11                                         \n",
       "Covariance Type:            nonrobust                                         \n",
       "=====================================================================================\n",
       "                        coef    std err          t      P>|t|      [0.025      0.975]\n",
       "-------------------------------------------------------------------------------------\n",
       "Intercept          1.524e+05   2.22e+04      6.869      0.000    1.09e+05    1.96e+05\n",
       "SqFt1stFloor         60.1853     23.599      2.550      0.011      13.930     106.441\n",
       "SqFt2ndFloor         12.1621     17.915      0.679      0.497     -22.953      47.277\n",
       "SqFtTotLiving       274.1132     15.944     17.193      0.000     242.863     305.363\n",
       "SqFtOpenPorch       230.4930     61.962      3.720      0.000     109.044     351.942\n",
       "SqFtEnclosedPorch   831.4123    206.976      4.017      0.000     425.730    1237.095\n",
       "TrafficNoise       1.362e+04    1.3e+04      1.046      0.295   -1.19e+04    3.91e+04\n",
       "PowerLines        -1.744e+05   7.23e+04     -2.412      0.016   -3.16e+05   -3.27e+04\n",
       "OtherNuisances     4.968e+04   4.21e+04      1.180      0.238   -3.29e+04    1.32e+05\n",
       "TidelandShoreland  9.633e+05    4.1e+04     23.495      0.000    8.83e+05    1.04e+06\n",
       "PresentUse          813.8913    269.537      3.020      0.003     285.587    1342.195\n",
       "has_porch         -1.344e+04   1.79e+04     -0.751      0.453   -4.85e+04    2.17e+04\n",
       "==============================================================================\n",
       "Omnibus:                    58267.959   Durbin-Watson:                   0.637\n",
       "Prob(Omnibus):                  0.000   Jarque-Bera (JB):        160784559.756\n",
       "Skew:                          15.420   Prob(JB):                         0.00\n",
       "Kurtosis:                     360.559   Cond. No.                     2.76e+04\n",
       "==============================================================================\n",
       "\n",
       "Warnings:\n",
       "[1] Standard Errors assume that the covariance matrix of the errors is correctly specified.\n",
       "[2] The condition number is large, 2.76e+04. This might indicate that there are\n",
       "strong multicollinearity or other numerical problems.\n",
       "\"\"\""
      ]
     },
     "execution_count": 23,
     "metadata": {},
     "output_type": "execute_result"
    }
   ],
   "source": [
    "outcome = 'SalePrice'\n",
    "x_cols = ['SqFt1stFloor', 'SqFt2ndFloor', 'SqFtTotLiving', 'SqFtOpenPorch', 'SqFtEnclosedPorch', 'TrafficNoise', 'PowerLines', 'OtherNuisances', 'TidelandShoreland', 'PresentUse', 'has_porch']\n",
    "predictors = '+'.join(x_cols)\n",
    "formula = outcome + '~' + predictors\n",
    "model = ols(formula=formula, data=df).fit()\n",
    "model.summary()"
   ]
  },
  {
   "cell_type": "code",
   "execution_count": 24,
   "metadata": {},
   "outputs": [
    {
     "data": {
      "image/png": "[encoded data removed]",
      "text/plain": [
       "<Figure size 720x864 with 121 Axes>"
      ]
     },
     "metadata": {
      "needs_background": "light"
     },
     "output_type": "display_data"
    }
   ],
   "source": [
    "pd.plotting.scatter_matrix(df[x_cols], figsize = (10,12));"
   ]
  },
  {
   "cell_type": "code",
   "execution_count": 26,
   "metadata": {},
   "outputs": [
    {
     "data": {
      "image/png": "[encoded data removed]",
      "text/plain": [
       "<Figure size 1080x360 with 6 Axes>"
      ]
     },
     "metadata": {
      "needs_background": "light"
     },
     "output_type": "display_data"
    }
   ],
   "source": [
    "fig, ax = plt.subplots(1,6, figsize=(15,5))\n",
    "for xcol, ax in zip(['TrafficNoise', 'PowerLines', 'OtherNuisances', 'TidelandShoreland', 'PresentUse', 'has_porch'], ax):\n",
    "    df.plot(kind='scatter', x=xcol, y='SalePrice', ax=ax, alpha=0.4, color='b')"
   ]
  },
  {
   "cell_type": "code",
   "execution_count": 29,
   "metadata": {},
   "outputs": [
    {
     "data": {
      "image/png": "[encoded data removed]",
      "text/plain": [
       "<Figure size 720x720 with 16 Axes>"
      ]
     },
     "metadata": {
      "needs_background": "light"
     },
     "output_type": "display_data"
    }
   ],
   "source": [
    "import warnings\n",
    "warnings.filterwarnings('ignore')\n",
    "fig = plt.figure(figsize = (10,10))\n",
    "ax = fig.gca()\n",
    "df.hist(ax = ax);"
   ]
  },
  {
   "cell_type": "code",
   "execution_count": 32,
   "metadata": {},
   "outputs": [
    {
     "data": {
      "text/plain": [
       "OtherNuisances        2\n",
       "PowerLines            2\n",
       "PresentUse           14\n",
       "TidelandShoreland     4\n",
       "TrafficNoise          4\n",
       "has_porch             2\n",
       "dtype: int64"
      ]
     },
     "execution_count": 32,
     "metadata": {},
     "output_type": "execute_result"
    }
   ],
   "source": [
    "df[['OtherNuisances', 'PowerLines', 'PresentUse', 'TidelandShoreland', 'TrafficNoise', 'has_porch']].nunique()"
   ]
  },
  {
   "cell_type": "code",
   "execution_count": 43,
   "metadata": {},
   "outputs": [
    {
     "data": {
      "text/plain": [
       "2      26212\n",
       "29      2806\n",
       "3        355\n",
       "300      244\n",
       "6        229\n",
       "4         85\n",
       "57        11\n",
       "8          8\n",
       "5          4\n",
       "11         2\n",
       "9          1\n",
       "341        1\n",
       "272        1\n",
       "0          1\n",
       "Name: PresentUse, dtype: int64"
      ]
     },
     "execution_count": 43,
     "metadata": {},
     "output_type": "execute_result"
    }
   ],
   "source": [
    "df['PresentUse'].value_counts()"
   ]
  },
  {
   "cell_type": "markdown",
   "metadata": {},
   "source": [
    "### We need to change this column's values to binary values to use it as a predictor variable in our model\n",
    "### TidelandsShorelands:\n",
    "#### 1: Uplands only\n",
    "#### 2: Uplands with tidelands or shorelands\n",
    "#### 3: Tidelands or shorelands only"
   ]
  },
  {
   "cell_type": "code",
   "execution_count": 45,
   "metadata": {},
   "outputs": [
    {
     "data": {
      "text/plain": [
       "0    29702\n",
       "2      240\n",
       "1       17\n",
       "3        1\n",
       "Name: TidelandShoreland, dtype: int64"
      ]
     },
     "execution_count": 45,
     "metadata": {},
     "output_type": "execute_result"
    }
   ],
   "source": [
    "df['TidelandShoreland'].value_counts()"
   ]
  },
  {
   "cell_type": "markdown",
   "metadata": {},
   "source": [
    "### TrafficNoise:\n",
    "#### 0: Unknown\n",
    "#### 1: Moderate\n",
    "#### 2: High\n",
    "#### 3: Extreme"
   ]
  },
  {
   "cell_type": "code",
   "execution_count": 46,
   "metadata": {},
   "outputs": [
    {
     "data": {
      "text/plain": [
       "0    25578\n",
       "1     2558\n",
       "2     1561\n",
       "3      263\n",
       "Name: TrafficNoise, dtype: int64"
      ]
     },
     "execution_count": 46,
     "metadata": {},
     "output_type": "execute_result"
    }
   ],
   "source": [
    "df['TrafficNoise'].value_counts()"
   ]
  },
  {
   "cell_type": "code",
   "execution_count": 49,
   "metadata": {},
   "outputs": [],
   "source": [
    "df['TrafficNoise'] = [1 if x > 0 else 0 for x in df['TrafficNoise']]"
   ]
  },
  {
   "cell_type": "code",
   "execution_count": 50,
   "metadata": {},
   "outputs": [
    {
     "data": {
      "text/plain": [
       "0    25578\n",
       "1     4382\n",
       "Name: TrafficNoise, dtype: int64"
      ]
     },
     "execution_count": 50,
     "metadata": {},
     "output_type": "execute_result"
    }
   ],
   "source": [
    "df['TrafficNoise'].value_counts()"
   ]
  },
  {
   "cell_type": "code",
   "execution_count": 47,
   "metadata": {},
   "outputs": [],
   "source": [
    "df['TidelandShoreland'] = [1 if x > 1 else 0 for x in df['TidelandShoreland']]"
   ]
  },
  {
   "cell_type": "code",
   "execution_count": 48,
   "metadata": {},
   "outputs": [
    {
     "data": {
      "text/plain": [
       "0    29719\n",
       "1      241\n",
       "Name: TidelandShoreland, dtype: int64"
      ]
     },
     "execution_count": 48,
     "metadata": {},
     "output_type": "execute_result"
    }
   ],
   "source": [
    "df['TidelandShoreland'].value_counts()"
   ]
  },
  {
   "cell_type": "markdown",
   "metadata": {},
   "source": [
    "### The PresentUse column of our dataframe states what the property is presently being used for.\n",
    "##### 2: Single family(Residential Use/Zone)-26,212 records\n",
    "##### 3: Duplex -355 records\n",
    "##### 4: Triplex -85 records\n",
    "##### 5: 4-Plex -4 records\n",
    "##### 6: Single Family(Commercial/Industrial Zone) -229 records\n",
    "##### 8: Mobile home -8 records\n",
    "##### 9: Single Family(Commercial/Industrial Use) -1 record\n",
    "##### 11: Apartment -2 records\n",
    "##### 29: Townhouse Plat -2,806 records\n",
    "###### A Plat is a recorded division of detached, single family homes.\n",
    "##### 57: Group Home -11 records\n",
    "##### 272: Historic Property(Residence) -1 record\n",
    "##### 300: Vacant(Single-family) -244 records\n",
    "##### 341: Rooming House: -1 record\n",
    "\n"
   ]
  },
  {
   "cell_type": "code",
   "execution_count": 61,
   "metadata": {},
   "outputs": [
    {
     "data": {
      "image/png": "[encoded data removed]",
      "text/plain": [
       "<Figure size 432x432 with 4 Axes>"
      ]
     },
     "metadata": {
      "needs_background": "light"
     },
     "output_type": "display_data"
    }
   ],
   "source": [
    "df[['SalePrice', 'SqFtTotLiving', 'SqFt1stFloor']].hist(figsize = [6, 6]);"
   ]
  },
  {
   "cell_type": "code",
   "execution_count": 57,
   "metadata": {},
   "outputs": [],
   "source": [
    "continuous = ['SalePrice', 'SqFtTotLiving', 'SqFt1stFloor']\n",
    "categoricals = ['TrafficNoise', 'PowerLines', 'OtherNuisances', 'TidelandShoreland',  'has_porch']"
   ]
  },
  {
   "cell_type": "code",
   "execution_count": 63,
   "metadata": {},
   "outputs": [
    {
     "data": {
      "text/html": [
       "<div>\n",
       "<style scoped>\n",
       "    .dataframe tbody tr th:only-of-type {\n",
       "        vertical-align: middle;\n",
       "    }\n",
       "\n",
       "    .dataframe tbody tr th {\n",
       "        vertical-align: top;\n",
       "    }\n",
       "\n",
       "    .dataframe thead th {\n",
       "        text-align: right;\n",
       "    }\n",
       "</style>\n",
       "<table border=\"1\" class=\"dataframe\">\n",
       "  <thead>\n",
       "    <tr style=\"text-align: right;\">\n",
       "      <th></th>\n",
       "      <th>Major</th>\n",
       "      <th>Minor</th>\n",
       "      <th>SalePrice</th>\n",
       "      <th>SqFt1stFloor</th>\n",
       "      <th>SqFt2ndFloor</th>\n",
       "      <th>SqFtTotLiving</th>\n",
       "      <th>SqFtOpenPorch</th>\n",
       "      <th>SqFtEnclosedPorch</th>\n",
       "      <th>TrafficNoise</th>\n",
       "      <th>AirportNoise</th>\n",
       "      <th>PowerLines</th>\n",
       "      <th>OtherNuisances</th>\n",
       "      <th>TidelandShoreland</th>\n",
       "      <th>PresentUse</th>\n",
       "      <th>has_porch</th>\n",
       "    </tr>\n",
       "  </thead>\n",
       "  <tbody>\n",
       "    <tr>\n",
       "      <td>0</td>\n",
       "      <td>213043</td>\n",
       "      <td>0120</td>\n",
       "      <td>560000</td>\n",
       "      <td>1930</td>\n",
       "      <td>0</td>\n",
       "      <td>1930</td>\n",
       "      <td>180</td>\n",
       "      <td>0</td>\n",
       "      <td>0</td>\n",
       "      <td>0</td>\n",
       "      <td>0</td>\n",
       "      <td>0</td>\n",
       "      <td>0</td>\n",
       "      <td>2</td>\n",
       "      <td>1</td>\n",
       "    </tr>\n",
       "  </tbody>\n",
       "</table>\n",
       "</div>"
      ],
      "text/plain": [
       "    Major Minor  SalePrice  SqFt1stFloor  SqFt2ndFloor  SqFtTotLiving  \\\n",
       "0  213043  0120     560000          1930             0           1930   \n",
       "\n",
       "   SqFtOpenPorch  SqFtEnclosedPorch  TrafficNoise  AirportNoise  PowerLines  \\\n",
       "0            180                  0             0             0           0   \n",
       "\n",
       "   OtherNuisances  TidelandShoreland  PresentUse  has_porch  \n",
       "0               0                  0           2          1  "
      ]
     },
     "execution_count": 63,
     "metadata": {},
     "output_type": "execute_result"
    }
   ],
   "source": [
    "df.head(1)"
   ]
  },
  {
   "cell_type": "code",
   "execution_count": 66,
   "metadata": {},
   "outputs": [
    {
     "data": {
      "image/png": "[encoded data removed]",
      "text/plain": [
       "<Figure size 576x576 with 2 Axes>"
      ]
     },
     "metadata": {
      "needs_background": "light"
     },
     "output_type": "display_data"
    }
   ],
   "source": [
    "data_log = pd.DataFrame([])\n",
    "data_log['logSqFtTotLiving'] = np.log(df['SqFtTotLiving'])\n",
    "data_log['logSqFt1stFloor'] = np.log(df['SqFt1stFloor'])\n",
    "data_log.hist(figsize=[8,8]);"
   ]
  },
  {
   "cell_type": "code",
   "execution_count": null,
   "metadata": {},
   "outputs": [],
   "source": [
    "log_sqft_totliving = data_log['logSqFtTotLiving']\n",
    "log_sqft_1stFloor = data_log['logSqFt1stFloor']\n",
    "\n",
    "scaled_sqft_total = (log_sqft_totliving - np.mean(log_sqft_totliving)) / np.sqrt(np.var(log_sqft_totliving))\n",
    "scaled_sqft_1stfloor = (log_sqft_1stFloor - np.mean(log_sqft_1stFloor)) / np.sqrt(np.var(log_sqft_1stFloor))\n",
    "\n",
    "data_cont_scaled = pd.DataFrame([])\n",
    "data_cont_scaled['SqFtTotLiving'] = scaled_sqft_total\n",
    "data_cont_scaled['SqFt1stFloor'] = scaled_sqft_1stfloor\n",
    "\n",
    "\n",
    "\n",
    "sale_price = df['SalePrice']\n",
    "data_fin = pd.concat([sale_price, data_cont_scaled, df['']])"
   ]
  }
 ],
 "metadata": {
  "kernelspec": {
   "display_name": "Python 3",
   "language": "python",
   "name": "python3"
  },
  "language_info": {
   "codemirror_mode": {
    "name": "ipython",
    "version": 3
   },
   "file_extension": ".py",
   "mimetype": "text/x-python",
   "name": "python",
   "nbconvert_exporter": "python",
   "pygments_lexer": "ipython3",
   "version": "3.6.9"
  }
 },
 "nbformat": 4,
 "nbformat_minor": 4
}
